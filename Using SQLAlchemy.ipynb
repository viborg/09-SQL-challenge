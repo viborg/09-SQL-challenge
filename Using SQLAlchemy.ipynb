{
 "cells": [
  {
   "cell_type": "markdown",
   "metadata": {},
   "source": [
    "# Using SQLAlchemy for Python interaction with a database\n",
    "\n",
    "## Introduction\n",
    "This notebook introduces using SQLAlchemy to interact with a PostgreSQL database.  It readily applies to MySQL and other relational database products with a simple change to the engine configuration (see db_string).\n",
    "\n",
    "### Three approaches for using SQLAlchemy\n",
    "Many developers who are already familiar with Python and SQL will simply install a thin Python wrapper to the database driver and write all the database logic using Python strings to execute raw SQL against the database.  \n",
    "\n",
    "This notebook outlines the three layers of abstraction at which SQLAlchemy can be used. The first approach presents the simple Python wrapper approach, just mentioned.  The next two approaches present increasing levels of abstraction, with the third approach interacting with our database in a Pythonic way.\n",
    "\n",
    "### A note about ORM\n",
    "In the discussion that follows ORM stands for Object-relational mapping, which is a programming technique for converting data between incompatible type systems using object-oriented programming languages. Many popular SQL database products can only store and manipulate scalar values such as integers and strings organized within tables. The programmer must then convert the object values into groups of simpler values for storage in the database (and convert them back upon retrieval).  ORM facilitates this.\n",
    "\n",
    "### Benfits of SQLAlchemy\n",
    "SQLAlchemy offers several benefits over the raw SQL approach, including:\n",
    "\n",
    "* **Cleaner code:** Embedding raw SQL code in Python strings gets messy pretty quickly,\n",
    "* **More secure code:** Using SQLAlchemy's ORM functionalities can help mitigate against vulnerabilities such as SQL injection,\n",
    "* **Simpler logic:** SQLAlchemy allows us to abstract all of our database logic into Python objects. Instead of having to think on a table, row, and column level, we can consider everything on a class, instance, and attribute level.\n",
    "\n",
    "### Caveat\n",
    "SQLAlchemy interacts with relational databases; it does not support NoSQL databases, such as Cassandra and Mongo.  Two poular software libraries that provide Python support for NoSQL are PyMongo (simple) and MongoEngine (ORM functionality).  See https://realpython.com/introduction-to-mongodb-and-python\n",
    "\n",
    "#### Prerequisites\n",
    "1. PostgreSQL database running at localhost port 5432\n",
    "2. A database named \"sqa_test\"\n",
    "3. The password for the database (db_key) is defined in config.py\n",
    "\n",
    "#### Notes\n",
    "1. Each snippet for the three approaches is meant to be executed individually (do not run all as one step). \n",
    "2. Each snippet creates a table in the database named \"films\".  Unfortunately, as written, the snippets for Approach # 1 and # 2 will throw an \"Duplicate Table\" error if that table already exists.  To remedy, use pgAdmin to delete the films table before executing those snippets.  This is not applicalble for Approach # 3."
   ]
  },
  {
   "cell_type": "markdown",
   "metadata": {},
   "source": [
    "## Approach # 1: Using Raw SQL to Create, Read, Update, and Delete \n",
    "In this section, each of the CRUD operations against PostgreSQL are run through SQLAlchemy, using only raw SQL statements. Using this method, we get none of the advantages mentioned above, and we may as well use only a basic Python database driver (e.g. psycopg, which is the most popular PostgreSQL adapter for the Python programming language and which we need to install along with SQLAlchemy in any case)."
   ]
  },
  {
   "cell_type": "code",
   "execution_count": 1,
   "metadata": {},
   "outputs": [
    {
     "name": "stdout",
     "output_type": "stream",
     "text": [
      "A row is ('1917', 'Sam Mendes', '2019')\n"
     ]
    },
    {
     "data": {
      "text/plain": [
       "<sqlalchemy.engine.result.ResultProxy at 0x11085a050>"
      ]
     },
     "execution_count": 1,
     "metadata": {},
     "output_type": "execute_result"
    }
   ],
   "source": [
    "# ------------------------------------------------------- #\n",
    "# Insure that the database does not have a films table.\n",
    "# This snippet, as written, tries to create a film table,\n",
    "# and will throw an error if films already exists.\n",
    "# ------------------------------------------------------- #\n",
    "\n",
    "from sqlalchemy import create_engine\n",
    "from config import db_key   # to unlock the database\n",
    "\n",
    "db_string = \"postgres://postgres:\" + db_key + \"@localhost:5432/sqa_test\"\n",
    "\n",
    "db = create_engine(db_string)\n",
    "\n",
    "# Create a table and insert one row\n",
    "db.execute(\"CREATE TABLE IF NOT EXISTS films (title text, director text, year text)\")  \n",
    "db.execute(\"INSERT INTO films (title, director, year) VALUES ('1917', 'Sam Mendes', '2019')\")\n",
    "\n",
    "# Read all rows (but there is only one)\n",
    "result_set = db.execute(\"SELECT * FROM films\")  \n",
    "for r in result_set:  \n",
    "    print(f\"A row is {r}\")\n",
    "\n",
    "# Update a row\n",
    "db.execute(\"UPDATE films SET title='Some2019Film' WHERE year='2019'\")\n",
    "\n",
    "# Delete a row\n",
    "db.execute(\"DELETE FROM films WHERE year='2019'\") "
   ]
  },
  {
   "cell_type": "markdown",
   "metadata": {},
   "source": [
    "### Observations of Approach # 1\n",
    "The above code would become even messier if we were to start using dynamic values, if we needed to run more complicated queries, or if we were dealing with anything more complicated than our single-table toy database.  Even with such a simple case, our database code is already getting messy. The strings are long, and we'd have issues if we needed to insert double or single quotation marks in any of the fields, as we are already using both (double for the Python strings and single for the SQL strings)"
   ]
  },
  {
   "cell_type": "markdown",
   "metadata": {},
   "source": [
    "## Approach # 2: Using the SQL Expression Language to Create, Read, Update, and Delete\n",
    "In this section, we'll show how to achieve exactly the same as above, but using the **SQL Expression Language that SQLAlchemy provides,** instead of using raw SQL strings. We'll see that this code is a little bit more verbose, and also fairly complicated and difficult to read, so we don't gain that much over the raw SQL queries above. But we can see that we're already starting to get closer to interacting with our database in a pythonic way."
   ]
  },
  {
   "cell_type": "code",
   "execution_count": 2,
   "metadata": {},
   "outputs": [
    {
     "name": "stdout",
     "output_type": "stream",
     "text": [
      "A row is ('1917', 'Sam Mendes', '2019')\n"
     ]
    }
   ],
   "source": [
    "# ------------------------------------------------------- #\n",
    "# Insure that the database does not have a films table.\n",
    "# This snippet, as written, tries to create a film table,\n",
    "# and will throw an error if films already exists.\n",
    "# ------------------------------------------------------- #\n",
    "\n",
    "from sqlalchemy import create_engine  \n",
    "from sqlalchemy import Table, Column, String, MetaData\n",
    "from config import db_key   # to unlock the database\n",
    "db_string = \"postgres://postgres:\" + db_key + \"@localhost:5432/sqa_test\"\n",
    "db = create_engine(db_string)\n",
    "\n",
    "meta = MetaData(db)  \n",
    "film_table = Table('films', meta,  \n",
    "                       Column('title', String),\n",
    "                       Column('director', String),\n",
    "                       Column('year', String))\n",
    "\n",
    "with db.connect() as conn:\n",
    "\n",
    "    # Create a table and insert one row\n",
    "    film_table.create()\n",
    "    insert_statement = film_table.insert().values(title=\"1917\", director=\"Sam Mendes\", year=\"2019\")\n",
    "    conn.execute(insert_statement)\n",
    "\n",
    "    # Read all rows (but there is only one)\n",
    "    select_statement = film_table.select()\n",
    "    result_set = conn.execute(select_statement)\n",
    "    for r in result_set:\n",
    "        print(f\"A row is {r}\")\n",
    "\n",
    "    # Update a row\n",
    "    update_statement = film_table.update().where(film_table.c.year==\"2019\").values(title = \"Some2019Film\")\n",
    "    conn.execute(update_statement)\n",
    "\n",
    "    # Delete a row\n",
    "    delete_statement = film_table.delete().where(film_table.c.year == \"2019\")\n",
    "    conn.execute(delete_statement)\n",
    "    "
   ]
  },
  {
   "cell_type": "markdown",
   "metadata": {},
   "source": [
    "### Observations of Approach # 2\n",
    "Note a few more imports were added at the top of this snippet to allow us to talk about the same concepts as before (Table, Column and String) using Python instead of SQL. The biggest change is creating a Table as a Python class, which takes a variable number of Column objects as arguments, and then calling .create() on this to actually create the table in Postgres.\n",
    "\n",
    "Our four CRUD operations are a direct parallel of what we did before, but instead of writing the statement as a long string, we can chain together various functions such as update(), where(), and values() that are provided by SQLAlchemy's SQL Expression Language."
   ]
  },
  {
   "cell_type": "markdown",
   "metadata": {},
   "source": [
    "## Approach # 3: Using the SQL ORB to Create, Read, Update, and Delete\n",
    "In this last section, we'll see how to do the same thing as in the previous examples using the full ORM. Our code is now longer again in terms of lines, but it feels more concise in terms of line length, and it is more readable (once you're used to the concepts behind the ORM). At this point, we can largely ignore database concepts such as tables, and think only in terms of Python objects."
   ]
  },
  {
   "cell_type": "code",
   "execution_count": 3,
   "metadata": {},
   "outputs": [
    {
     "name": "stdout",
     "output_type": "stream",
     "text": [
      "The title of a film is \"1917\"\n"
     ]
    }
   ],
   "source": [
    "# ------------------------------------------------------------ #\n",
    "# You don't need to remember to manually drop the films table.\n",
    "# ------------------------------------------------------------ #\n",
    "\n",
    "from sqlalchemy import create_engine  \n",
    "from sqlalchemy import Column, String  \n",
    "from sqlalchemy.ext.declarative import declarative_base  \n",
    "from sqlalchemy.orm import sessionmaker\n",
    "from config import db_key   # to unlock the database\n",
    "\n",
    "db_string = \"postgres://postgres:\" + db_key + \"@localhost:5432/sqa_test\"\n",
    "\n",
    "db = create_engine(db_string)  \n",
    "base = declarative_base()\n",
    "\n",
    "class Film(base):  \n",
    "    __tablename__ = 'films'\n",
    "\n",
    "    title = Column(String, primary_key=True)\n",
    "    director = Column(String)\n",
    "    year = Column(String)\n",
    "\n",
    "# Perform the hidden SQLAlchemy magic\n",
    "Session = sessionmaker(db)  \n",
    "session = Session()\n",
    "\n",
    "# Send a CREATE TABLE command to the database, using the schema that was \n",
    "# implicitly created by declaring the Film class\n",
    "base.metadata.create_all(db)\n",
    "\n",
    "# Create one row\n",
    "doctor_strange = Film(title=\"1917\", director=\"Sam Mendes\", year=\"2019\")  \n",
    "session.add(doctor_strange)  \n",
    "session.commit()\n",
    "\n",
    "# Read all rows (but there is only one)\n",
    "films = session.query(Film)  \n",
    "for film in films:  \n",
    "    print(f'The title of a film is \"{film.title}\"')\n",
    "\n",
    "# Update a row\n",
    "doctor_strange.title = \"Some2019Film\"  \n",
    "session.commit()\n",
    "\n",
    "# Delete a row\n",
    "session.delete(doctor_strange)  \n",
    "session.commit()  "
   ]
  },
  {
   "cell_type": "markdown",
   "metadata": {},
   "source": [
    "### Observations of Approach # 3\n",
    "There are many things happening under the hood in this example, but here are some highlights:\n",
    "* Unlike was the case for the first two approaches, we do not need to worry about whether a table already exists int the database.  SQLAlchemy watches for this.\n",
    "* The Film class is a subclass of the base class, which SQLAlchemy provides and in turn provides many database shortcuts.\n",
    "* You can think of a session as an intelligent connection to our database that will watch what we're doing in our Python code and modify the database as necessary.\n",
    "* We can insert data into our database by instantiating Python objects and passing them to session.add(). In this example, doctor_strange is an object of the Film class.\n",
    "* Perhaps the starkest difference is in our update example. Here we don't pass anything to the session at all — we simply modify our Python object, and then call session.commit(), which notices the modification and makes the update call to the database."
   ]
  },
  {
   "cell_type": "markdown",
   "metadata": {},
   "source": [
    "## Conclusion\n",
    "So what is the catch in using a SQLAlchemy abstraction layer to implement object-oriented progamming techniques for interacting with a database?  Well, you might assume that there can be a hit to performance, which would be noticeable for very, very large databases.  \n",
    "\n",
    "However, databases seldom exist in a vacuum -- outboard programs must be used to do useful things with those databases (web pages, visualization, analysis).  Earlier techniques sent raw SQL commands to the database using a Python wrapper, which may be appropriate for throw-away code (non-maintained) or when existing SQL code must be used.  This approach \"may\" also affect performance less than when using an ORM.\n",
    "\n",
    "The ORM is useful for keeping your code Pythonic and to abstract away from the database completely. It allows one to deal directly with Python classes instead of Tables, with instantiations of objects instead of rows, and with object attributes instead of columns. It also abstracts away from the specific database flavor of the day that you're using, as SQLAlchemy has drivers for popular database products."
   ]
  },
  {
   "cell_type": "code",
   "execution_count": null,
   "metadata": {},
   "outputs": [],
   "source": []
  }
 ],
 "metadata": {
  "kernelspec": {
   "display_name": "Python 3",
   "language": "python",
   "name": "python3"
  },
  "language_info": {
   "codemirror_mode": {
    "name": "ipython",
    "version": 3
   },
   "file_extension": ".py",
   "mimetype": "text/x-python",
   "name": "python",
   "nbconvert_exporter": "python",
   "pygments_lexer": "ipython3",
   "version": "3.7.4"
  }
 },
 "nbformat": 4,
 "nbformat_minor": 4
}
